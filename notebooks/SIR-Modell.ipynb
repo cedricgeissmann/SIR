{
 "cells": [
  {
   "cell_type": "markdown",
   "metadata": {},
   "source": [
    "# SIR-Modell\n",
    "\n",
    "## Parameter\n",
    "\n",
    "- `a`: Die Übertragbarkeit des Virus. Hängt davon ab wie viele `Suseptible` und wie viele `Infected` es gibt.\n",
    "- `b`: Die Rate wie schnell man nach einer Infektion zurück zu den `Suseptible` geht. Das Individuum hat also durch die Infektion keine Immunität erhalten. Hängt davon ab wie viele `Infected` es gibt. Reduziert die Anzahl `Infected`.\n",
    "- `c`: Die Rate mit der infizierte Individuun *heilen*, also sich immunisieren. Hängt von `Infected` ab. Reduziert die Anzahl `Infected`.\n",
    "- `d`: Die Rate mit der geimpft wird. Hängt nur von `Suseptible` ab. Reduziert `Suseptible` und erhöht `Vaccinated`.\n",
    "- `e`: Die Rate mit der immunisierte (`Removed`) die Immunität verlieren. Hängt von `Removed` ab. Erhöht `Suseptible`.\n",
    "- `f`: Die Rate mit der geimpfte Individuuen den Impfschutz verlieren. Hängt von `Vaccinated` ab und erhöht `Suseptible`.\n",
    "- `g`: Die Rate mit der sich geimpfte trozdem anstecken können. Die Idee hier ist das sich geimpfte anstecken können, aber nicht mehr sterben an der Infektion. Diese Rate hängt von `Vaccinated` und `Infected` ab. `g` sollte sehr klein gewählt werden, da er von 2 Grössen abhängt.\n",
    "- `h`: Die Rate mit der infizierte-geimpfte Individuuen von `Suseptible` anstecken können.\n",
    "- `i`: Die Rate mit der *False-Negative* getestet wird.\n",
    "- `i`: Die Rate mit der *False-Negative* getestete Individuuen andere aus der Gruppe `Suseptible` anstecken.\n",
    "- `k`: Todesrate bei Infizierten. Hängt von `Infected` ab und erhöht `Dead`.\n",
    "\n",
    "## Events\n",
    "\n",
    "Mit dem Objekt `events` kann das geschehen der Pandemie kontinuierlich verändert werden. Es kann für jeden Zeitschritt `t` ein Event angegeben werden. Bei einem Event werden die Parameter der laufenden Pandemie neu gesetzt.\n",
    "\n",
    "**Beispiel:**\n",
    "Zum Zeitpunkt `t=50` werden Massnahmen umgesetzt, welche die Verbreitung des Virus erschweren.\n",
    "\n",
    "```python\n",
    "events[50] = {'a': 0.0005}\n",
    "```"
   ]
  },
  {
   "cell_type": "code",
   "execution_count": 23,
   "metadata": {},
   "outputs": [
    {
     "data": {
      "application/vnd.jupyter.widget-view+json": {
       "model_id": "74f253542a394ab2ba7f338886004132",
       "version_major": 2,
       "version_minor": 0
      },
      "text/plain": [
       "FloatSlider(value=0.0003, description='a:', max=0.001, readout_format='.4f', step=0.0001)"
      ]
     },
     "metadata": {},
     "output_type": "display_data"
    },
    {
     "data": {
      "application/vnd.jupyter.widget-view+json": {
       "model_id": "e27b465a1a504505b03bcc2a732a3a29",
       "version_major": 2,
       "version_minor": 0
      },
      "text/plain": [
       "FloatSlider(value=0.1, description='b:', max=0.5, readout_format='.1f', step=0.01)"
      ]
     },
     "metadata": {},
     "output_type": "display_data"
    },
    {
     "data": {
      "application/vnd.jupyter.widget-view+json": {
       "model_id": "42ca5b5253e6406db8d8ae5be90027a2",
       "version_major": 2,
       "version_minor": 0
      },
      "text/plain": [
       "FloatSlider(value=0.001, description='c:', max=0.1, readout_format='.3f', step=0.001)"
      ]
     },
     "metadata": {},
     "output_type": "display_data"
    },
    {
     "data": {
      "application/vnd.jupyter.widget-view+json": {
       "model_id": "7bbfd33e0a4a493488359e6ed21185c2",
       "version_major": 2,
       "version_minor": 0
      },
      "text/plain": [
       "FloatSlider(value=0.0, description='d:', max=0.01, readout_format='.3f', step=0.001)"
      ]
     },
     "metadata": {},
     "output_type": "display_data"
    },
    {
     "data": {
      "application/vnd.jupyter.widget-view+json": {
       "model_id": "79064b4316074ea493c7ce3dccddf58c",
       "version_major": 2,
       "version_minor": 0
      },
      "text/plain": [
       "FloatSlider(value=0.0, description='e:', max=0.1, step=0.01)"
      ]
     },
     "metadata": {},
     "output_type": "display_data"
    },
    {
     "data": {
      "application/vnd.jupyter.widget-view+json": {
       "model_id": "08769333b25c4b9a9ed73379776279ec",
       "version_major": 2,
       "version_minor": 0
      },
      "text/plain": [
       "FloatSlider(value=0.0, description='f:', max=0.1, step=0.01)"
      ]
     },
     "metadata": {},
     "output_type": "display_data"
    },
    {
     "data": {
      "application/vnd.jupyter.widget-view+json": {
       "model_id": "34d31015a9964510ad75505d17f35073",
       "version_major": 2,
       "version_minor": 0
      },
      "text/plain": [
       "FloatSlider(value=0.0, description='h:', max=0.1, step=0.01)"
      ]
     },
     "metadata": {},
     "output_type": "display_data"
    },
    {
     "data": {
      "application/vnd.jupyter.widget-view+json": {
       "model_id": "e44be0539c4b4817bbe2b396ef3fc453",
       "version_major": 2,
       "version_minor": 0
      },
      "text/plain": [
       "FloatSlider(value=0.0, description='g:', max=0.1, step=0.01)"
      ]
     },
     "metadata": {},
     "output_type": "display_data"
    },
    {
     "data": {
      "application/vnd.jupyter.widget-view+json": {
       "model_id": "d54c0317ee7f4824b72f964785f521d0",
       "version_major": 2,
       "version_minor": 0
      },
      "text/plain": [
       "FloatSlider(value=0.0, description='i:', max=0.1, step=0.01)"
      ]
     },
     "metadata": {},
     "output_type": "display_data"
    },
    {
     "data": {
      "application/vnd.jupyter.widget-view+json": {
       "model_id": "9284f22d57dd4a0db89caeb56708a262",
       "version_major": 2,
       "version_minor": 0
      },
      "text/plain": [
       "FloatSlider(value=0.0, description='j:', max=0.1, step=0.01)"
      ]
     },
     "metadata": {},
     "output_type": "display_data"
    },
    {
     "data": {
      "application/vnd.jupyter.widget-view+json": {
       "model_id": "d56db1ce4a664fd1b19e33ca451a89b3",
       "version_major": 2,
       "version_minor": 0
      },
      "text/plain": [
       "IntSlider(value=990, description='S:', max=10000, step=10)"
      ]
     },
     "metadata": {},
     "output_type": "display_data"
    },
    {
     "data": {
      "application/vnd.jupyter.widget-view+json": {
       "model_id": "3b2e3c69319d473787d30bd6aec8abd3",
       "version_major": 2,
       "version_minor": 0
      },
      "text/plain": [
       "IntSlider(value=10, description='I:', max=10000, step=10)"
      ]
     },
     "metadata": {},
     "output_type": "display_data"
    },
    {
     "data": {
      "application/vnd.jupyter.widget-view+json": {
       "model_id": "ac54c2816aea4402853d30d928e5841c",
       "version_major": 2,
       "version_minor": 0
      },
      "text/plain": [
       "IntSlider(value=365, description='Anzahl Tage', max=730, min=14)"
      ]
     },
     "metadata": {},
     "output_type": "display_data"
    },
    {
     "data": {
      "application/vnd.jupyter.widget-view+json": {
       "model_id": "00a774a217ee49f8879fd1472f4b4b5b",
       "version_major": 2,
       "version_minor": 0
      },
      "text/plain": [
       "FloatSlider(value=0.0, description='Tägliche Unsicherheit', max=1.0)"
      ]
     },
     "metadata": {},
     "output_type": "display_data"
    }
   ],
   "source": [
    "from lib.iteration import *\n",
    "import ipywidgets as widgets\n",
    "import matplotlib.pyplot as plt\n",
    "plt.rcParams[\"figure.figsize\"] = (15, 20)\n",
    "\n",
    "a = widgets.FloatSlider(0.0003, description='a:', step=0.0001, min=0.0, max=0.001, readout_format='.4f')\n",
    "b = widgets.FloatSlider(0.1, description='b:', step=0.01, min=0.0, max=0.5, readout_format='.1f')\n",
    "c = widgets.FloatSlider(0.001, description='c:', step=0.001, min=0.0, max=0.1, readout_format='.3f')\n",
    "d = widgets.FloatSlider(0.0, description='d:', step=0.001, min=0.0, max=0.01, readout_format='.3f')\n",
    "e = widgets.FloatSlider(0.0, description='e:', step=0.01, min=0.0, max=0.1, readout_format='.2f')\n",
    "f = widgets.FloatSlider(0.0, description='f:', step=0.01, min=0.0, max=0.1, readout_format='.2f')\n",
    "g = widgets.FloatSlider(0.0, description='g:', step=0.01, min=0.0, max=0.1, readout_format='.2f')\n",
    "h = widgets.FloatSlider(0.0, description='h:', step=0.01, min=0.0, max=0.1, readout_format='.2f')\n",
    "i = widgets.FloatSlider(0.0, description='i:', step=0.01, min=0.0, max=0.1, readout_format='.2f')\n",
    "j = widgets.FloatSlider(0.0, description='j:', step=0.01, min=0.0, max=0.1, readout_format='.2f')\n",
    "\n",
    "s_start = widgets.IntSlider(990, description='S:', step=10, min=0, max=10000)\n",
    "i_start = widgets.IntSlider(10, description='I:', step=10, min=0, max=10000)\n",
    "\n",
    "days = widgets.IntSlider(365, description='Anzahl Tage', min=14, max=730)\n",
    "\n",
    "daily_fluctuations = widgets.FloatSlider(0.0, description='Tägliche Unsicherheit', min=0.0, max=1.0)\n",
    "\n",
    "display(a, b, c, d, e, f, h, g, i, j, s_start, i_start, days, daily_fluctuations)\n",
    "\n",
    "highlight = {'Infected': {\n",
    "        'color': 'red',\n",
    "        'linewidth': 3,\n",
    "        'linestyle': '-.'\n",
    "    },'Suseptible': {\n",
    "        'color': 'green'\n",
    "    }, 'Dead': {\n",
    "        'color': 'black'\n",
    "    }, 'VI': {\n",
    "        'color': 'magenta'\n",
    "}}"
   ]
  },
  {
   "cell_type": "code",
   "execution_count": 24,
   "metadata": {
    "scrolled": false
   },
   "outputs": [
    {
     "data": {
      "image/png": "[encoded data removed]",
      "text/plain": [
       "<Figure size 1080x1440 with 1 Axes>"
      ]
     },
     "metadata": {
      "needs_background": "light"
     },
     "output_type": "display_data"
    },
    {
     "name": "stdout",
     "output_type": "stream",
     "text": [
      "Tote: 0.0\n"
     ]
    }
   ],
   "source": [
    "events = {\n",
    "    50: {'i': 0.0001, 'j': 0.05}, \n",
    "}\n",
    "\n",
    "l = iteration(sir_modell, x0=[s_start.value, i_start.value, 0, 0, 0, 0, 0],\n",
    "              n=days.value, a=a.value, b=b.value, c=c.value, d=d.value,\n",
    "              e=e.value, f=f.value, g=g.value, h=h.value, i=i.value, j=j.value,\n",
    "              daily_fluctuations=daily_fluctuations.value,\n",
    "              events=events)\n",
    "\n",
    "plot_iteration(l, highlight=highlight)\n",
    "\n",
    "print(f'Tote: {l[3][-1]}')"
   ]
  }
 ],
 "metadata": {
  "kernelspec": {
   "display_name": "Python 3",
   "language": "python",
   "name": "python3"
  },
  "language_info": {
   "codemirror_mode": {
    "name": "ipython",
    "version": 3
   },
   "file_extension": ".py",
   "mimetype": "text/x-python",
   "name": "python",
   "nbconvert_exporter": "python",
   "pygments_lexer": "ipython3",
   "version": "3.8.6"
  }
 },
 "nbformat": 4,
 "nbformat_minor": 4
}
