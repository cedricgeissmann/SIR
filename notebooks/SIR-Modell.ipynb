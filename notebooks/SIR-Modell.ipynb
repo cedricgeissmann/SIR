{
 "cells": [
  {
   "cell_type": "markdown",
   "metadata": {},
   "source": [
    "# SIR-Modell"
   ]
  },
  {
   "cell_type": "code",
   "execution_count": 1,
   "metadata": {},
   "outputs": [
    {
     "data": {
      "application/vnd.jupyter.widget-view+json": {
       "model_id": "04968b3970284df393b6ec99d693b548",
       "version_major": 2,
       "version_minor": 0
      },
      "text/plain": [
       "FloatSlider(value=0.0002, description='a:', max=0.001, readout_format='.4f', step=0.0001)"
      ]
     },
     "metadata": {},
     "output_type": "display_data"
    },
    {
     "data": {
      "application/vnd.jupyter.widget-view+json": {
       "model_id": "9a7c05a25c80416e8403c92da8483349",
       "version_major": 2,
       "version_minor": 0
      },
      "text/plain": [
       "FloatSlider(value=0.1, description='b:', max=0.5, readout_format='.1f', step=0.01)"
      ]
     },
     "metadata": {},
     "output_type": "display_data"
    },
    {
     "data": {
      "application/vnd.jupyter.widget-view+json": {
       "model_id": "a0ac0ab401bf4a9597042ee703d672ae",
       "version_major": 2,
       "version_minor": 0
      },
      "text/plain": [
       "FloatSlider(value=0.03, description='c:', max=0.1, step=0.001)"
      ]
     },
     "metadata": {},
     "output_type": "display_data"
    },
    {
     "data": {
      "application/vnd.jupyter.widget-view+json": {
       "model_id": "3917512426cc4db5bde4e25811bd6086",
       "version_major": 2,
       "version_minor": 0
      },
      "text/plain": [
       "FloatSlider(value=0.001, description='d:', max=0.01, readout_format='.3f', step=0.001)"
      ]
     },
     "metadata": {},
     "output_type": "display_data"
    },
    {
     "data": {
      "application/vnd.jupyter.widget-view+json": {
       "model_id": "fae3a6c6d6994d508ffd8c464d7a7b19",
       "version_major": 2,
       "version_minor": 0
      },
      "text/plain": [
       "IntSlider(value=990, description='S:', max=10000, step=10)"
      ]
     },
     "metadata": {},
     "output_type": "display_data"
    },
    {
     "data": {
      "application/vnd.jupyter.widget-view+json": {
       "model_id": "a6dc6103b7ae4320a5d2bba3bd1a4d35",
       "version_major": 2,
       "version_minor": 0
      },
      "text/plain": [
       "IntSlider(value=10, description='I:', max=10000, step=10)"
      ]
     },
     "metadata": {},
     "output_type": "display_data"
    },
    {
     "data": {
      "application/vnd.jupyter.widget-view+json": {
       "model_id": "bbade586e7cf43549f459674042e7086",
       "version_major": 2,
       "version_minor": 0
      },
      "text/plain": [
       "FloatSlider(value=0.1, description='Tägliche Unsicherheit', max=1.0)"
      ]
     },
     "metadata": {},
     "output_type": "display_data"
    }
   ],
   "source": [
    "from lib.iteration import *\n",
    "import ipywidgets as widgets\n",
    "\n",
    "a = widgets.FloatSlider(0.0002, description='a:', step=0.0001, min=0.0, max=0.001, readout_format='.4f')\n",
    "b = widgets.FloatSlider(0.1, description='b:', step=0.01, min=0.0, max=0.5, readout_format='.1f')\n",
    "c = widgets.FloatSlider(0.03, description='c:', step=0.001, min=0.0, max=0.1, readout_format='.2f')\n",
    "d = widgets.FloatSlider(0.001, description='d:', step=0.001, min=0.0, max=0.01, readout_format='.3f')\n",
    "\n",
    "s_start = widgets.IntSlider(990, description='S:', step=10, min=0, max=10000)\n",
    "i_start = widgets.IntSlider(10, description='I:', step=10, min=0, max=10000)\n",
    "\n",
    "days = widgets.IntSlider(365, description='Anzahl Tage', min=14, max=730)\n",
    "\n",
    "daily_fluctuations = widgets.FloatSlider(0.1, description='Tägliche Unsicherheit', min=0.0, max=1.0)\n",
    "\n",
    "display(a, b, c, d, s_start, i_start, days, daily_fluctuations)"
   ]
  },
  {
   "cell_type": "code",
   "execution_count": 2,
   "metadata": {},
   "outputs": [
    {
     "data": {
      "image/png": "[encoded data removed]",
      "text/plain": [
       "<Figure size 432x288 with 1 Axes>"
      ]
     },
     "metadata": {
      "needs_background": "light"
     },
     "output_type": "display_data"
    }
   ],
   "source": [
    "l = iteration(sir_modell, x0=[s_start.value, i_start.value, 0, 0],\n",
    "              n=days.value, a=a.value, b=b.value, c=c.value, d=d.value,\n",
    "              daily_fluctuations=daily_fluctuations.value)\n",
    "\n",
    "plot_iteration(l)"
   ]
  }
 ],
 "metadata": {
  "kernelspec": {
   "display_name": "Python 3",
   "language": "python",
   "name": "python3"
  },
  "language_info": {
   "codemirror_mode": {
    "name": "ipython",
    "version": 3
   },
   "file_extension": ".py",
   "mimetype": "text/x-python",
   "name": "python",
   "nbconvert_exporter": "python",
   "pygments_lexer": "ipython3",
   "version": "3.8.6"
  }
 },
 "nbformat": 4,
 "nbformat_minor": 4
}
