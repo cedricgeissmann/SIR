{
 "cells": [
  {
   "cell_type": "markdown",
   "metadata": {},
   "source": [
    "# SIR-Modell\n",
    "\n",
    "## Parameter\n",
    "\n",
    "- `a`: Die Übertragbarkeit des Virus. Hängt davon ab wie viele `Suseptible` und wie viele `Infected` es gibt.\n",
    "- `b`: Die Rate wie schnell man nach einer Infektion zurück zu den `Suseptible` geht. Das Individuum hat also durch die Infektion keine Immunität erhalten. Hängt davon ab wie viele `Infected` es gibt. Reduziert die Anzahl `Infected`.\n",
    "- `c`: Die Rate mit der infizierte Individuun *heilen*, also sich immunisieren. Hängt von `Infected` ab. Reduziert die Anzahl `Infected`.\n",
    "- `d`: Die Rate mit der geimpft wird. Hängt nur von `Suseptible` ab. Reduziert `Suseptible` und erhöht `Vaccinated`.\n",
    "- `e`: Die Rate mit der immunisierte (`Removed`) die Immunität verlieren. Hängt von `Removed` ab. Erhöht `Suseptible`.\n",
    "- `f`: Die Rate mit der geimpfte Individuuen den Impfschutz verlieren. Hängt von `Vaccinated` ab und erhöht `Suseptible`.\n",
    "- `g`: Die Rate mit der sich geimpfte trozdem anstecken können. Die Idee hier ist das sich geimpfte anstecken können, aber nicht mehr sterben an der Infektion. Diese Rate hängt von `Vaccinated` und `Infected` ab. `g` sollte sehr klein gewählt werden, da er von 2 Grössen abhängt.\n",
    "- `h`: Die Rate mit der infizierte-geimpfte Individuuen von `Suseptible` anstecken können.\n",
    "- `i`: Die Rate mit der *False-Negative* getestet wird.\n",
    "- `i`: Die Rate mit der *False-Negative* getestete Individuuen andere aus der Gruppe `Suseptible` anstecken.\n",
    "- `k`: Todesrate bei Infizierten. Hängt von `Infected` ab und erhöht `Dead`.\n",
    "\n",
    "## Events\n",
    "\n",
    "Mit dem Objekt `events` kann das geschehen der Pandemie kontinuierlich verändert werden. Es kann für jeden Zeitschritt `t` ein Event angegeben werden. Bei einem Event werden die Parameter der laufenden Pandemie neu gesetzt.\n",
    "\n",
    "**Beispiel:**\n",
    "Zum Zeitpunkt `t=50` werden Massnahmen umgesetzt, welche die Verbreitung des Virus erschweren.\n",
    "\n",
    "```python\n",
    "events[50] = {'a': 0.05}\n",
    "```"
   ]
  },
  {
   "cell_type": "code",
   "execution_count": 16,
   "metadata": {
    "scrolled": false
   },
   "outputs": [
    {
     "data": {
      "application/vnd.jupyter.widget-view+json": {
       "model_id": "89a8b8bde0d74acabcecb291c36ba5be",
       "version_major": 2,
       "version_minor": 0
      },
      "text/plain": [
       "FloatSlider(value=0.1, description='a:', max=1.0, step=0.05)"
      ]
     },
     "metadata": {},
     "output_type": "display_data"
    },
    {
     "data": {
      "application/vnd.jupyter.widget-view+json": {
       "model_id": "eae903b7b59b4422a329b6ea77df32e5",
       "version_major": 2,
       "version_minor": 0
      },
      "text/plain": [
       "FloatSlider(value=0.1, description='b:', max=1.0, step=0.05)"
      ]
     },
     "metadata": {},
     "output_type": "display_data"
    },
    {
     "data": {
      "application/vnd.jupyter.widget-view+json": {
       "model_id": "2545d64df71944c1a270585c4411f2f8",
       "version_major": 2,
       "version_minor": 0
      },
      "text/plain": [
       "FloatSlider(value=0.1, description='c:', max=1.0, step=0.05)"
      ]
     },
     "metadata": {},
     "output_type": "display_data"
    },
    {
     "data": {
      "application/vnd.jupyter.widget-view+json": {
       "model_id": "f3343e9e7d3b44f983d3fa862854b87a",
       "version_major": 2,
       "version_minor": 0
      },
      "text/plain": [
       "FloatSlider(value=0.0, description='d:', max=1.0, step=0.05)"
      ]
     },
     "metadata": {},
     "output_type": "display_data"
    },
    {
     "data": {
      "application/vnd.jupyter.widget-view+json": {
       "model_id": "0a521fbde60044899c967ede608bc8a2",
       "version_major": 2,
       "version_minor": 0
      },
      "text/plain": [
       "FloatSlider(value=0.0, description='e:', max=1.0, step=0.05)"
      ]
     },
     "metadata": {},
     "output_type": "display_data"
    },
    {
     "data": {
      "application/vnd.jupyter.widget-view+json": {
       "model_id": "3ffda54567de4a2592e687b4d4919568",
       "version_major": 2,
       "version_minor": 0
      },
      "text/plain": [
       "FloatSlider(value=0.0, description='f:', max=1.0, step=0.05)"
      ]
     },
     "metadata": {},
     "output_type": "display_data"
    },
    {
     "data": {
      "application/vnd.jupyter.widget-view+json": {
       "model_id": "23643913cdff464fae327f2de549e125",
       "version_major": 2,
       "version_minor": 0
      },
      "text/plain": [
       "FloatSlider(value=0.0, description='h:', max=1.0, step=0.05)"
      ]
     },
     "metadata": {},
     "output_type": "display_data"
    },
    {
     "data": {
      "application/vnd.jupyter.widget-view+json": {
       "model_id": "77ef843d0eec487ba2a82370832c633d",
       "version_major": 2,
       "version_minor": 0
      },
      "text/plain": [
       "FloatSlider(value=0.0, description='g:', max=1.0, step=0.05)"
      ]
     },
     "metadata": {},
     "output_type": "display_data"
    },
    {
     "data": {
      "application/vnd.jupyter.widget-view+json": {
       "model_id": "e46d4a3c92f1448abaf06d84de27ba8e",
       "version_major": 2,
       "version_minor": 0
      },
      "text/plain": [
       "FloatSlider(value=0.0, description='i:', max=1.0, step=0.05)"
      ]
     },
     "metadata": {},
     "output_type": "display_data"
    },
    {
     "data": {
      "application/vnd.jupyter.widget-view+json": {
       "model_id": "e5641bada73b4bc093746fdf560021df",
       "version_major": 2,
       "version_minor": 0
      },
      "text/plain": [
       "FloatSlider(value=0.0, description='j:', max=1.0, step=0.05)"
      ]
     },
     "metadata": {},
     "output_type": "display_data"
    },
    {
     "data": {
      "application/vnd.jupyter.widget-view+json": {
       "model_id": "8302fc191f364f47b092d8355ab61c62",
       "version_major": 2,
       "version_minor": 0
      },
      "text/plain": [
       "FloatSlider(value=0.0, description='k:', max=1.0, step=0.05)"
      ]
     },
     "metadata": {},
     "output_type": "display_data"
    },
    {
     "data": {
      "application/vnd.jupyter.widget-view+json": {
       "model_id": "ba04b43f506742cb979cc1aa9634c6a7",
       "version_major": 2,
       "version_minor": 0
      },
      "text/plain": [
       "IntSlider(value=10000, description='S:', max=10000000, step=100)"
      ]
     },
     "metadata": {},
     "output_type": "display_data"
    },
    {
     "data": {
      "application/vnd.jupyter.widget-view+json": {
       "model_id": "f594c4926a7144e0a023fcd369dd2e93",
       "version_major": 2,
       "version_minor": 0
      },
      "text/plain": [
       "IntSlider(value=10, description='I:', max=10000000, step=100)"
      ]
     },
     "metadata": {},
     "output_type": "display_data"
    },
    {
     "data": {
      "application/vnd.jupyter.widget-view+json": {
       "model_id": "bda908a6c57b45bc99961a5b5b7e7359",
       "version_major": 2,
       "version_minor": 0
      },
      "text/plain": [
       "IntSlider(value=365, description='Anzahl Tage', max=730, min=1)"
      ]
     },
     "metadata": {},
     "output_type": "display_data"
    },
    {
     "data": {
      "application/vnd.jupyter.widget-view+json": {
       "model_id": "db85979d20e24104aa8783000447cb87",
       "version_major": 2,
       "version_minor": 0
      },
      "text/plain": [
       "FloatSlider(value=0.0, description='Tägliche Unsicherheit', max=1.0)"
      ]
     },
     "metadata": {},
     "output_type": "display_data"
    }
   ],
   "source": [
    "from lib.iteration import *\n",
    "import ipywidgets as widgets\n",
    "import matplotlib.pyplot as plt\n",
    "plt.rcParams[\"figure.figsize\"] = (15, 30)\n",
    "\n",
    "a = widgets.FloatSlider(0.1, description='a:', step=0.05, min=0.0, max=1, readout_format='.2f')\n",
    "b = widgets.FloatSlider(0.1, description='b:', step=0.05, min=0.0, max=1, readout_format='.2f')\n",
    "c = widgets.FloatSlider(0.1, description='c:', step=0.05, min=0.0, max=1, readout_format='.2f')\n",
    "d = widgets.FloatSlider(0.0, description='d:', step=0.05, min=0.0, max=1, readout_format='.2f')\n",
    "e = widgets.FloatSlider(0.0, description='e:', step=0.05, min=0.0, max=1, readout_format='.2f')\n",
    "f = widgets.FloatSlider(0.0, description='f:', step=0.05, min=0.0, max=1, readout_format='.2f')\n",
    "g = widgets.FloatSlider(0.0, description='g:', step=0.05, min=0.0, max=1, readout_format='.2f')\n",
    "h = widgets.FloatSlider(0.0, description='h:', step=0.05, min=0.0, max=1, readout_format='.2f')\n",
    "i = widgets.FloatSlider(0.0, description='i:', step=0.05, min=0.0, max=1, readout_format='.2f')\n",
    "j = widgets.FloatSlider(0.0, description='j:', step=0.05, min=0.0, max=1, readout_format='.2f')\n",
    "k = widgets.FloatSlider(0.0, description='k:', step=0.05, min=0.0, max=1, readout_format='.2f')\n",
    "\n",
    "\n",
    "s_start = widgets.IntSlider(10000, description='S:', step=100, min=0, max=10_000_000)\n",
    "i_start = widgets.IntSlider(10, description='I:', step=100, min=0, max=10_000_000)\n",
    "\n",
    "days = widgets.IntSlider(365, description='Anzahl Tage', min=1, max=730)\n",
    "\n",
    "daily_fluctuations = widgets.FloatSlider(0.0, description='Tägliche Unsicherheit', min=0.0, max=1.0)\n",
    "\n",
    "display(a, b, c, d, e, f, h, g, i, j, k, s_start, i_start, days, daily_fluctuations)\n",
    "\n",
    "highlight = {'Infected': {\n",
    "        'color': 'red',\n",
    "        'linewidth': 3,\n",
    "        'linestyle': '-.'\n",
    "    },'Suseptible': {\n",
    "        'color': 'green'\n",
    "    }, 'Dead': {\n",
    "        'color': 'black'\n",
    "    }, 'VI': {\n",
    "        'color': 'magenta'\n",
    "}}"
   ]
  },
  {
   "cell_type": "code",
   "execution_count": 24,
   "metadata": {},
   "outputs": [
    {
     "data": {
      "image/png": "[encoded data removed]",
      "text/plain": [
       "<Figure size 1080x2160 with 1 Axes>"
      ]
     },
     "metadata": {
      "needs_background": "light"
     },
     "output_type": "display_data"
    },
    {
     "name": "stdout",
     "output_type": "stream",
     "text": [
      "Tote: 0.0\n"
     ]
    }
   ],
   "source": [
    "events = {\n",
    "    #1: {'a': 0.000000025}, \n",
    "}\n",
    "\n",
    "l = iteration(sir_modell, x0=[s_start.value, i_start.value, 0, 0, 0, 0, 0],\n",
    "              n=days.value, a=a.value, b=b.value, c=c.value, d=d.value,\n",
    "              e=e.value, f=f.value, g=g.value, h=h.value, i=i.value, j=j.value, k=k.value,\n",
    "              daily_fluctuations=daily_fluctuations.value,\n",
    "              events=events)\n",
    "\n",
    "plot_iteration(l, highlight=highlight)\n",
    "\n",
    "print(f'Tote: {l[3][-1]}')"
   ]
  },
  {
   "cell_type": "code",
   "execution_count": null,
   "metadata": {},
   "outputs": [],
   "source": [
    "\n",
    "l1 = [10000.0, 9900.0, 8811.99, -1734.2965638900005, 18610.960938540207, 181111.4374898186]\n",
    "l2 = [10.0, 109.9, 1196.8110000000001, 11731.12945389, -8731.439343079106, -171144.6015009267]\n",
    "print(l1)\n",
    "print(l2)\n",
    "\n",
    "for (e1, e2) in zip(l1, l2):\n",
    "    print(e1 * e2 * 0.1)"
   ]
  },
  {
   "cell_type": "code",
   "execution_count": null,
   "metadata": {},
   "outputs": [],
   "source": [
    "def calc(S, I):\n",
    "    N = S+I\n",
    "    return N / ((N/2) * (N/2))\n",
    "\n",
    "calc(100000, 100000)"
   ]
  }
 ],
 "metadata": {
  "kernelspec": {
   "display_name": "Python 3",
   "language": "python",
   "name": "python3"
  },
  "language_info": {
   "codemirror_mode": {
    "name": "ipython",
    "version": 3
   },
   "file_extension": ".py",
   "mimetype": "text/x-python",
   "name": "python",
   "nbconvert_exporter": "python",
   "pygments_lexer": "ipython3",
   "version": "3.8.6"
  }
 },
 "nbformat": 4,
 "nbformat_minor": 4
}
