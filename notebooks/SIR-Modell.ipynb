{
 "cells": [
  {
   "cell_type": "markdown",
   "metadata": {},
   "source": [
    "# SIR-Modell\n",
    "\n",
    "## Parameter\n",
    "\n",
    "- `a`: Die Übertragbarkeit des Virus. Hängt davon ab wie viele `Suseptible` und wie viele `Infected` es gibt.\n",
    "- `b`: Die Rate wie schnell man nach einer Infektion zurück zu den `Suseptible` geht. Das Individuum hat also durch die Infektion keine Immunität erhalten. Hängt davon ab wie viele `Infected` es gibt. Reduziert die Anzahl `Infected`.\n",
    "- `c`: Die Rate mit der infizierte Individuun *heilen*, also sich immunisieren. Hängt von `Infected` ab. Reduziiert die Anzahl `Infected`.\n",
    "- `d`: Die Rate mit der geimpft wird. Hängt nur von `Suseptible` ab. Reduziert `Suseptible` und erhöht `Vaccinated`.\n",
    "- `e`: Die Rate mit der immunisierte (`Removed`) die Immunität verlieren. Hängt von `Removed` ab. Erhöht `Suseptible`.\n",
    "- `f`: Die Rate mit der geimpfte Individuuen den Impfschutz verlieren. Hängt von `Vaccinated` ab und erhöht `Suseptible`.\n",
    "- `k`: Todesrate bei Infizierten. Hängt von `Infected` ab und erhöht `Dead`.\n",
    "\n",
    "## Events\n",
    "\n",
    "Mit dem Objekt `events` kann das geschehen der Pandemie kontinuierlich verändert werden. Es kann für jeden Zeitschritt `t` ein Event angegeben werden. Bei einem Event werden die Parameter der laufenden Pandemie neu gesetzt.\n",
    "\n",
    "**Beispiel:**\n",
    "Zum Zeitpunkt `t=50` werden Massnahmen umgesetzt, welche die Verbreitung des Virus erschweren.\n",
    "\n",
    "```python\n",
    "events[50] = {'a': 0.0005}\n",
    "```"
   ]
  },
  {
   "cell_type": "code",
   "execution_count": 21,
   "metadata": {},
   "outputs": [
    {
     "data": {
      "application/vnd.jupyter.widget-view+json": {
       "model_id": "5862b2744e814afaaebc5266cb090a45",
       "version_major": 2,
       "version_minor": 0
      },
      "text/plain": [
       "FloatSlider(value=0.0001, description='a:', max=0.001, readout_format='.4f', step=0.0001)"
      ]
     },
     "metadata": {},
     "output_type": "display_data"
    },
    {
     "data": {
      "application/vnd.jupyter.widget-view+json": {
       "model_id": "d48a07ffcbfd460dbb549b01292479b8",
       "version_major": 2,
       "version_minor": 0
      },
      "text/plain": [
       "FloatSlider(value=0.0, description='b:', max=0.5, readout_format='.1f', step=0.01)"
      ]
     },
     "metadata": {},
     "output_type": "display_data"
    },
    {
     "data": {
      "application/vnd.jupyter.widget-view+json": {
       "model_id": "ef9a0d736c9040d599db7bf0f105abca",
       "version_major": 2,
       "version_minor": 0
      },
      "text/plain": [
       "FloatSlider(value=0.001, description='c:', max=0.1, step=0.001)"
      ]
     },
     "metadata": {},
     "output_type": "display_data"
    },
    {
     "data": {
      "application/vnd.jupyter.widget-view+json": {
       "model_id": "eba4a51df0744cf2a1a0d5a39c2ec9b0",
       "version_major": 2,
       "version_minor": 0
      },
      "text/plain": [
       "FloatSlider(value=0.0, description='d:', max=0.01, readout_format='.3f', step=0.001)"
      ]
     },
     "metadata": {},
     "output_type": "display_data"
    },
    {
     "data": {
      "application/vnd.jupyter.widget-view+json": {
       "model_id": "8c5b4a9f5c354a979b59ee56aecf9460",
       "version_major": 2,
       "version_minor": 0
      },
      "text/plain": [
       "FloatSlider(value=0.0, description='e:', max=0.1, step=0.01)"
      ]
     },
     "metadata": {},
     "output_type": "display_data"
    },
    {
     "data": {
      "application/vnd.jupyter.widget-view+json": {
       "model_id": "692c3da6ab9747b1845c48bbddf1021d",
       "version_major": 2,
       "version_minor": 0
      },
      "text/plain": [
       "FloatSlider(value=0.0, description='f:', max=0.1, step=0.01)"
      ]
     },
     "metadata": {},
     "output_type": "display_data"
    },
    {
     "data": {
      "application/vnd.jupyter.widget-view+json": {
       "model_id": "2789485fe4e048488943205910bfd996",
       "version_major": 2,
       "version_minor": 0
      },
      "text/plain": [
       "IntSlider(value=990, description='S:', max=10000, step=10)"
      ]
     },
     "metadata": {},
     "output_type": "display_data"
    },
    {
     "data": {
      "application/vnd.jupyter.widget-view+json": {
       "model_id": "03d8e88eaef74d2ea6593ad98a9ab92f",
       "version_major": 2,
       "version_minor": 0
      },
      "text/plain": [
       "IntSlider(value=10, description='I:', max=10000, step=10)"
      ]
     },
     "metadata": {},
     "output_type": "display_data"
    },
    {
     "data": {
      "application/vnd.jupyter.widget-view+json": {
       "model_id": "9c0868c61aa34452bead59aa689eb293",
       "version_major": 2,
       "version_minor": 0
      },
      "text/plain": [
       "IntSlider(value=365, description='Anzahl Tage', max=730, min=14)"
      ]
     },
     "metadata": {},
     "output_type": "display_data"
    },
    {
     "data": {
      "application/vnd.jupyter.widget-view+json": {
       "model_id": "7e0420a1472f4e30bde5db2b603b802d",
       "version_major": 2,
       "version_minor": 0
      },
      "text/plain": [
       "FloatSlider(value=0.0, description='Tägliche Unsicherheit', max=1.0)"
      ]
     },
     "metadata": {},
     "output_type": "display_data"
    }
   ],
   "source": [
    "from lib.iteration import *\n",
    "import ipywidgets as widgets\n",
    "\n",
    "a = widgets.FloatSlider(0.0001, description='a:', step=0.0001, min=0.0, max=0.001, readout_format='.4f')\n",
    "b = widgets.FloatSlider(0.0, description='b:', step=0.01, min=0.0, max=0.5, readout_format='.1f')\n",
    "c = widgets.FloatSlider(0.001, description='c:', step=0.001, min=0.0, max=0.1, readout_format='.2f')\n",
    "d = widgets.FloatSlider(0.0, description='d:', step=0.001, min=0.0, max=0.01, readout_format='.3f')\n",
    "e = widgets.FloatSlider(0.0, description='e:', step=0.01, min=0.0, max=0.1, readout_format='.2f')\n",
    "f = widgets.FloatSlider(0.0, description='f:', step=0.01, min=0.0, max=0.1, readout_format='.2f')\n",
    "\n",
    "s_start = widgets.IntSlider(990, description='S:', step=10, min=0, max=10000)\n",
    "i_start = widgets.IntSlider(10, description='I:', step=10, min=0, max=10000)\n",
    "\n",
    "days = widgets.IntSlider(365, description='Anzahl Tage', min=14, max=730)\n",
    "\n",
    "daily_fluctuations = widgets.FloatSlider(0.0, description='Tägliche Unsicherheit', min=0.0, max=1.0)\n",
    "\n",
    "display(a, b, c, d, e, f, s_start, i_start, days, daily_fluctuations)\n",
    "\n",
    "highlight = {'Infected': {\n",
    "        'color': 'red',\n",
    "        'linewidth': 3,\n",
    "        'linestyle': '-.'\n",
    "    },'Suseptible': {\n",
    "        'color': 'green'\n",
    "    }, 'Dead': {\n",
    "        'color': 'black'\n",
    "}}"
   ]
  },
  {
   "cell_type": "code",
   "execution_count": 22,
   "metadata": {},
   "outputs": [
    {
     "data": {
      "image/png": "[encoded data removed]",
      "text/plain": [
       "<Figure size 432x288 with 1 Axes>"
      ]
     },
     "metadata": {
      "needs_background": "light"
     },
     "output_type": "display_data"
    },
    {
     "name": "stdout",
     "output_type": "stream",
     "text": [
      "Tote: 0.0\n"
     ]
    }
   ],
   "source": [
    "events = {\n",
    "    20: {'a': 0.00005}, # Massnahmen zur Ansteckungsvermeidung wurden umgesetzt.\n",
    "    30: {'a': 0.0001}, # Das Virus wird ansteckender!!!\n",
    "    \n",
    "}\n",
    "\n",
    "l = iteration(sir_modell, x0=[s_start.value, i_start.value, 0, 0, 0],\n",
    "              n=days.value, a=a.value, b=b.value, c=c.value, d=d.value,\n",
    "              e=e.value, f=f.value,\n",
    "              daily_fluctuations=daily_fluctuations.value,\n",
    "              events=events)\n",
    "\n",
    "plot_iteration(l, highlight=highlight)\n",
    "\n",
    "print(f'Tote: {l[3][-1]}')"
   ]
  }
 ],
 "metadata": {
  "kernelspec": {
   "display_name": "Python 3",
   "language": "python",
   "name": "python3"
  },
  "language_info": {
   "codemirror_mode": {
    "name": "ipython",
    "version": 3
   },
   "file_extension": ".py",
   "mimetype": "text/x-python",
   "name": "python",
   "nbconvert_exporter": "python",
   "pygments_lexer": "ipython3",
   "version": "3.8.6"
  }
 },
 "nbformat": 4,
 "nbformat_minor": 4
}
