{
 "cells": [
  {
   "cell_type": "markdown",
   "metadata": {},
   "source": [
    "# SIR-Modell"
   ]
  },
  {
   "cell_type": "code",
   "execution_count": 1,
   "metadata": {},
   "outputs": [
    {
     "data": {
      "application/vnd.jupyter.widget-view+json": {
       "model_id": "72081844bf8040f29d7cf6de8751da21",
       "version_major": 2,
       "version_minor": 0
      },
      "text/plain": [
       "FloatSlider(value=0.0002, description='a:', max=0.001, readout_format='.4f', step=0.0001)"
      ]
     },
     "metadata": {},
     "output_type": "display_data"
    },
    {
     "data": {
      "application/vnd.jupyter.widget-view+json": {
       "model_id": "5a97c56f995f4176849c7f603f7af921",
       "version_major": 2,
       "version_minor": 0
      },
      "text/plain": [
       "FloatSlider(value=0.1, description='b:', max=0.5, readout_format='.1f', step=0.01)"
      ]
     },
     "metadata": {},
     "output_type": "display_data"
    },
    {
     "data": {
      "application/vnd.jupyter.widget-view+json": {
       "model_id": "69235a6bbda749b89e8432be5311f6bd",
       "version_major": 2,
       "version_minor": 0
      },
      "text/plain": [
       "FloatSlider(value=0.03, description='b:', max=0.1, step=0.001)"
      ]
     },
     "metadata": {},
     "output_type": "display_data"
    },
    {
     "data": {
      "application/vnd.jupyter.widget-view+json": {
       "model_id": "cd551a8e1d204b58856af1dde4e29a8e",
       "version_major": 2,
       "version_minor": 0
      },
      "text/plain": [
       "IntSlider(value=990, description='S:', max=10000, step=10)"
      ]
     },
     "metadata": {},
     "output_type": "display_data"
    },
    {
     "data": {
      "application/vnd.jupyter.widget-view+json": {
       "model_id": "61ca9d4553e84f1dacb3ddf76032ce97",
       "version_major": 2,
       "version_minor": 0
      },
      "text/plain": [
       "IntSlider(value=10, description='I:', max=10000, step=10)"
      ]
     },
     "metadata": {},
     "output_type": "display_data"
    },
    {
     "data": {
      "application/vnd.jupyter.widget-view+json": {
       "model_id": "ff33b40e68904c34b694289f654dd4ec",
       "version_major": 2,
       "version_minor": 0
      },
      "text/plain": [
       "FloatSlider(value=0.1, description='Tägliche Unsicherheit', max=1.0)"
      ]
     },
     "metadata": {},
     "output_type": "display_data"
    }
   ],
   "source": [
    "from lib.iteration import *\n",
    "import ipywidgets as widgets\n",
    "\n",
    "a = 0.0002; b = 0.1; c = 0.03\n",
    "\n",
    "a = widgets.FloatSlider(0.0002, description='a:', step=0.0001, min=0.0, max=0.001, readout_format='.4f')\n",
    "b = widgets.FloatSlider(0.1, description='b:', step=0.01, min=0.0, max=0.5, readout_format='.1f')\n",
    "c = widgets.FloatSlider(0.03, description='b:', step=0.001, min=0.0, max=0.1, readout_format='.2f')\n",
    "\n",
    "s_start = widgets.IntSlider(990, description='S:', step=10, min=0, max=10000)\n",
    "i_start = widgets.IntSlider(10, description='I:', step=10, min=0, max=10000)\n",
    "\n",
    "daily_fluctuations = widgets.FloatSlider(0.1, description='Tägliche Unsicherheit', min=0.0, max=1.0)\n",
    "\n",
    "display(a, b, c, s_start, i_start, daily_fluctuations)"
   ]
  },
  {
   "cell_type": "code",
   "execution_count": 2,
   "metadata": {},
   "outputs": [
    {
     "data": {
      "image/png": "[encoded data removed]",
      "text/plain": [
       "<Figure size 432x288 with 1 Axes>"
      ]
     },
     "metadata": {
      "needs_background": "light"
     },
     "output_type": "display_data"
    }
   ],
   "source": [
    "l = iteration(sir_modell, x0=[s_start.value, i_start.value, 0],\n",
    "              n=180, a=a.value, b=b.value, c=c.value,\n",
    "              daily_fluctuations=daily_fluctuations.value)\n",
    "\n",
    "plot_iteration(l)"
   ]
  }
 ],
 "metadata": {
  "kernelspec": {
   "display_name": "Python 3",
   "language": "python",
   "name": "python3"
  },
  "language_info": {
   "codemirror_mode": {
    "name": "ipython",
    "version": 3
   },
   "file_extension": ".py",
   "mimetype": "text/x-python",
   "name": "python",
   "nbconvert_exporter": "python",
   "pygments_lexer": "ipython3",
   "version": "3.8.6"
  }
 },
 "nbformat": 4,
 "nbformat_minor": 4
}
